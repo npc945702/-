{
 "cells": [
  {
   "cell_type": "markdown",
   "id": "baadb040",
   "metadata": {},
   "source": [
    "## 載入相關套件"
   ]
  },
  {
   "cell_type": "code",
   "execution_count": 1,
   "id": "dccb7478",
   "metadata": {},
   "outputs": [],
   "source": [
    "%matplotlib inline"
   ]
  },
  {
   "cell_type": "code",
   "execution_count": 2,
   "id": "17fd9c84",
   "metadata": {},
   "outputs": [],
   "source": [
    "import vectorbt as vbt"
   ]
  },
  {
   "cell_type": "code",
   "execution_count": 3,
   "id": "a3fc0d21",
   "metadata": {},
   "outputs": [],
   "source": [
    "from numba import njit"
   ]
  },
  {
   "cell_type": "code",
   "execution_count": 4,
   "id": "9b588856",
   "metadata": {},
   "outputs": [],
   "source": [
    "import pandas as pd\n",
    "import numpy as np\n",
    "import matplotlib.pyplot as plt"
   ]
  },
  {
   "cell_type": "markdown",
   "id": "e84e0ffd",
   "metadata": {},
   "source": [
    "## 從Yahoo finance下載股價資料，載入過去五年每日元大高股息ETF(0056)收盤資料"
   ]
  },
  {
   "cell_type": "code",
   "execution_count": 5,
   "id": "7d181474",
   "metadata": {},
   "outputs": [],
   "source": [
    "data = pd.read_csv(r'C:\\Users\\npc94\\OneDrive\\桌面\\0056.TW.csv',index_col=0,parse_dates=True)\n",
    "\n",
    "price= data['Close']"
   ]
  },
  {
   "cell_type": "code",
   "execution_count": 6,
   "id": "4be1c611",
   "metadata": {},
   "outputs": [
    {
     "data": {
      "text/html": [
       "<div>\n",
       "<style scoped>\n",
       "    .dataframe tbody tr th:only-of-type {\n",
       "        vertical-align: middle;\n",
       "    }\n",
       "\n",
       "    .dataframe tbody tr th {\n",
       "        vertical-align: top;\n",
       "    }\n",
       "\n",
       "    .dataframe thead th {\n",
       "        text-align: right;\n",
       "    }\n",
       "</style>\n",
       "<table border=\"1\" class=\"dataframe\">\n",
       "  <thead>\n",
       "    <tr style=\"text-align: right;\">\n",
       "      <th></th>\n",
       "      <th>Open</th>\n",
       "      <th>High</th>\n",
       "      <th>Low</th>\n",
       "      <th>Close</th>\n",
       "      <th>Adj Close</th>\n",
       "      <th>Volume</th>\n",
       "    </tr>\n",
       "    <tr>\n",
       "      <th>Date</th>\n",
       "      <th></th>\n",
       "      <th></th>\n",
       "      <th></th>\n",
       "      <th></th>\n",
       "      <th></th>\n",
       "      <th></th>\n",
       "    </tr>\n",
       "  </thead>\n",
       "  <tbody>\n",
       "    <tr>\n",
       "      <th>2017-01-17</th>\n",
       "      <td>23.370001</td>\n",
       "      <td>23.49</td>\n",
       "      <td>23.370001</td>\n",
       "      <td>23.440001</td>\n",
       "      <td>23.440001</td>\n",
       "      <td>712583</td>\n",
       "    </tr>\n",
       "    <tr>\n",
       "      <th>2017-01-18</th>\n",
       "      <td>23.480000</td>\n",
       "      <td>23.48</td>\n",
       "      <td>23.410000</td>\n",
       "      <td>23.420000</td>\n",
       "      <td>23.420000</td>\n",
       "      <td>371489</td>\n",
       "    </tr>\n",
       "    <tr>\n",
       "      <th>2017-01-19</th>\n",
       "      <td>23.400000</td>\n",
       "      <td>23.40</td>\n",
       "      <td>23.350000</td>\n",
       "      <td>23.389999</td>\n",
       "      <td>23.389999</td>\n",
       "      <td>300555</td>\n",
       "    </tr>\n",
       "    <tr>\n",
       "      <th>2017-01-20</th>\n",
       "      <td>23.400000</td>\n",
       "      <td>23.43</td>\n",
       "      <td>23.350000</td>\n",
       "      <td>23.350000</td>\n",
       "      <td>23.350000</td>\n",
       "      <td>603250</td>\n",
       "    </tr>\n",
       "    <tr>\n",
       "      <th>2017-01-23</th>\n",
       "      <td>23.350000</td>\n",
       "      <td>23.49</td>\n",
       "      <td>23.350000</td>\n",
       "      <td>23.480000</td>\n",
       "      <td>23.480000</td>\n",
       "      <td>544355</td>\n",
       "    </tr>\n",
       "  </tbody>\n",
       "</table>\n",
       "</div>"
      ],
      "text/plain": [
       "                 Open   High        Low      Close  Adj Close  Volume\n",
       "Date                                                                 \n",
       "2017-01-17  23.370001  23.49  23.370001  23.440001  23.440001  712583\n",
       "2017-01-18  23.480000  23.48  23.410000  23.420000  23.420000  371489\n",
       "2017-01-19  23.400000  23.40  23.350000  23.389999  23.389999  300555\n",
       "2017-01-20  23.400000  23.43  23.350000  23.350000  23.350000  603250\n",
       "2017-01-23  23.350000  23.49  23.350000  23.480000  23.480000  544355"
      ]
     },
     "execution_count": 6,
     "metadata": {},
     "output_type": "execute_result"
    }
   ],
   "source": [
    "data.head()"
   ]
  },
  {
   "cell_type": "code",
   "execution_count": 7,
   "id": "7150e6b9",
   "metadata": {},
   "outputs": [
    {
     "data": {
      "text/html": [
       "<div>\n",
       "<style scoped>\n",
       "    .dataframe tbody tr th:only-of-type {\n",
       "        vertical-align: middle;\n",
       "    }\n",
       "\n",
       "    .dataframe tbody tr th {\n",
       "        vertical-align: top;\n",
       "    }\n",
       "\n",
       "    .dataframe thead th {\n",
       "        text-align: right;\n",
       "    }\n",
       "</style>\n",
       "<table border=\"1\" class=\"dataframe\">\n",
       "  <thead>\n",
       "    <tr style=\"text-align: right;\">\n",
       "      <th></th>\n",
       "      <th>Open</th>\n",
       "      <th>High</th>\n",
       "      <th>Low</th>\n",
       "      <th>Close</th>\n",
       "      <th>Adj Close</th>\n",
       "      <th>Volume</th>\n",
       "    </tr>\n",
       "    <tr>\n",
       "      <th>Date</th>\n",
       "      <th></th>\n",
       "      <th></th>\n",
       "      <th></th>\n",
       "      <th></th>\n",
       "      <th></th>\n",
       "      <th></th>\n",
       "    </tr>\n",
       "  </thead>\n",
       "  <tbody>\n",
       "    <tr>\n",
       "      <th>2022-01-10</th>\n",
       "      <td>33.250000</td>\n",
       "      <td>33.299999</td>\n",
       "      <td>33.119999</td>\n",
       "      <td>33.270000</td>\n",
       "      <td>33.270000</td>\n",
       "      <td>9915525</td>\n",
       "    </tr>\n",
       "    <tr>\n",
       "      <th>2022-01-11</th>\n",
       "      <td>33.290001</td>\n",
       "      <td>33.290001</td>\n",
       "      <td>33.160000</td>\n",
       "      <td>33.200001</td>\n",
       "      <td>33.200001</td>\n",
       "      <td>13666824</td>\n",
       "    </tr>\n",
       "    <tr>\n",
       "      <th>2022-01-12</th>\n",
       "      <td>33.310001</td>\n",
       "      <td>33.380001</td>\n",
       "      <td>33.049999</td>\n",
       "      <td>33.099998</td>\n",
       "      <td>33.099998</td>\n",
       "      <td>21269312</td>\n",
       "    </tr>\n",
       "    <tr>\n",
       "      <th>2022-01-13</th>\n",
       "      <td>33.099998</td>\n",
       "      <td>33.279999</td>\n",
       "      <td>33.099998</td>\n",
       "      <td>33.200001</td>\n",
       "      <td>33.200001</td>\n",
       "      <td>10983305</td>\n",
       "    </tr>\n",
       "    <tr>\n",
       "      <th>2022-01-14</th>\n",
       "      <td>33.220001</td>\n",
       "      <td>33.220001</td>\n",
       "      <td>32.860001</td>\n",
       "      <td>33.150002</td>\n",
       "      <td>33.150002</td>\n",
       "      <td>27153827</td>\n",
       "    </tr>\n",
       "  </tbody>\n",
       "</table>\n",
       "</div>"
      ],
      "text/plain": [
       "                 Open       High        Low      Close  Adj Close    Volume\n",
       "Date                                                                       \n",
       "2022-01-10  33.250000  33.299999  33.119999  33.270000  33.270000   9915525\n",
       "2022-01-11  33.290001  33.290001  33.160000  33.200001  33.200001  13666824\n",
       "2022-01-12  33.310001  33.380001  33.049999  33.099998  33.099998  21269312\n",
       "2022-01-13  33.099998  33.279999  33.099998  33.200001  33.200001  10983305\n",
       "2022-01-14  33.220001  33.220001  32.860001  33.150002  33.150002  27153827"
      ]
     },
     "execution_count": 7,
     "metadata": {},
     "output_type": "execute_result"
    }
   ],
   "source": [
    "data.tail()"
   ]
  },
  {
   "cell_type": "markdown",
   "id": "2cbb7934",
   "metadata": {},
   "source": [
    "## 設定資料頻率為\"日\"，並設定交易只看前一次的報酬，前一次報酬為正就買進股票"
   ]
  },
  {
   "cell_type": "code",
   "execution_count": 8,
   "id": "e3ceaa1f",
   "metadata": {},
   "outputs": [],
   "source": [
    "vbt.settings.array_wrapper['freq'] = 'd'\n",
    "risk_free=0.01\n",
    "\n",
    "entries = np.log(price/price.shift(1))  > 0\n",
    "exits = price.apply(np.log).diff(1)  < 0\n",
    "               \n",
    "portfolio = vbt.Portfolio.from_signals(price, entries, exits, fees=0,init_cash=10000)"
   ]
  },
  {
   "cell_type": "markdown",
   "id": "5c04886f",
   "metadata": {},
   "source": [
    "## 交易進出資料"
   ]
  },
  {
   "cell_type": "code",
   "execution_count": 9,
   "id": "6d3307ea",
   "metadata": {},
   "outputs": [
    {
     "data": {
      "text/html": [
       "<div>\n",
       "<style scoped>\n",
       "    .dataframe tbody tr th:only-of-type {\n",
       "        vertical-align: middle;\n",
       "    }\n",
       "\n",
       "    .dataframe tbody tr th {\n",
       "        vertical-align: top;\n",
       "    }\n",
       "\n",
       "    .dataframe thead th {\n",
       "        text-align: right;\n",
       "    }\n",
       "</style>\n",
       "<table border=\"1\" class=\"dataframe\">\n",
       "  <thead>\n",
       "    <tr style=\"text-align: right;\">\n",
       "      <th></th>\n",
       "      <th>Order Id</th>\n",
       "      <th>Column</th>\n",
       "      <th>Timestamp</th>\n",
       "      <th>Size</th>\n",
       "      <th>Price</th>\n",
       "      <th>Fees</th>\n",
       "      <th>Side</th>\n",
       "    </tr>\n",
       "  </thead>\n",
       "  <tbody>\n",
       "    <tr>\n",
       "      <th>0</th>\n",
       "      <td>0</td>\n",
       "      <td>Close</td>\n",
       "      <td>2017-01-23</td>\n",
       "      <td>425.894378</td>\n",
       "      <td>23.480000</td>\n",
       "      <td>0.0</td>\n",
       "      <td>Buy</td>\n",
       "    </tr>\n",
       "    <tr>\n",
       "      <th>1</th>\n",
       "      <td>1</td>\n",
       "      <td>Close</td>\n",
       "      <td>2017-02-16</td>\n",
       "      <td>425.894378</td>\n",
       "      <td>24.480000</td>\n",
       "      <td>0.0</td>\n",
       "      <td>Sell</td>\n",
       "    </tr>\n",
       "    <tr>\n",
       "      <th>2</th>\n",
       "      <td>2</td>\n",
       "      <td>Close</td>\n",
       "      <td>2017-02-18</td>\n",
       "      <td>424.334326</td>\n",
       "      <td>24.570000</td>\n",
       "      <td>0.0</td>\n",
       "      <td>Buy</td>\n",
       "    </tr>\n",
       "    <tr>\n",
       "      <th>3</th>\n",
       "      <td>3</td>\n",
       "      <td>Close</td>\n",
       "      <td>2017-02-20</td>\n",
       "      <td>424.334326</td>\n",
       "      <td>24.370001</td>\n",
       "      <td>0.0</td>\n",
       "      <td>Sell</td>\n",
       "    </tr>\n",
       "    <tr>\n",
       "      <th>4</th>\n",
       "      <td>4</td>\n",
       "      <td>Close</td>\n",
       "      <td>2017-02-22</td>\n",
       "      <td>424.160310</td>\n",
       "      <td>24.379999</td>\n",
       "      <td>0.0</td>\n",
       "      <td>Buy</td>\n",
       "    </tr>\n",
       "    <tr>\n",
       "      <th>...</th>\n",
       "      <td>...</td>\n",
       "      <td>...</td>\n",
       "      <td>...</td>\n",
       "      <td>...</td>\n",
       "      <td>...</td>\n",
       "      <td>...</td>\n",
       "      <td>...</td>\n",
       "    </tr>\n",
       "    <tr>\n",
       "      <th>545</th>\n",
       "      <td>545</td>\n",
       "      <td>Close</td>\n",
       "      <td>2022-01-06</td>\n",
       "      <td>451.913551</td>\n",
       "      <td>33.410000</td>\n",
       "      <td>0.0</td>\n",
       "      <td>Sell</td>\n",
       "    </tr>\n",
       "    <tr>\n",
       "      <th>546</th>\n",
       "      <td>546</td>\n",
       "      <td>Close</td>\n",
       "      <td>2022-01-10</td>\n",
       "      <td>453.815201</td>\n",
       "      <td>33.270000</td>\n",
       "      <td>0.0</td>\n",
       "      <td>Buy</td>\n",
       "    </tr>\n",
       "    <tr>\n",
       "      <th>547</th>\n",
       "      <td>547</td>\n",
       "      <td>Close</td>\n",
       "      <td>2022-01-11</td>\n",
       "      <td>453.815201</td>\n",
       "      <td>33.200001</td>\n",
       "      <td>0.0</td>\n",
       "      <td>Sell</td>\n",
       "    </tr>\n",
       "    <tr>\n",
       "      <th>548</th>\n",
       "      <td>548</td>\n",
       "      <td>Close</td>\n",
       "      <td>2022-01-13</td>\n",
       "      <td>453.815201</td>\n",
       "      <td>33.200001</td>\n",
       "      <td>0.0</td>\n",
       "      <td>Buy</td>\n",
       "    </tr>\n",
       "    <tr>\n",
       "      <th>549</th>\n",
       "      <td>549</td>\n",
       "      <td>Close</td>\n",
       "      <td>2022-01-14</td>\n",
       "      <td>453.815201</td>\n",
       "      <td>33.150002</td>\n",
       "      <td>0.0</td>\n",
       "      <td>Sell</td>\n",
       "    </tr>\n",
       "  </tbody>\n",
       "</table>\n",
       "<p>550 rows × 7 columns</p>\n",
       "</div>"
      ],
      "text/plain": [
       "     Order Id Column  Timestamp        Size      Price  Fees  Side\n",
       "0           0  Close 2017-01-23  425.894378  23.480000   0.0   Buy\n",
       "1           1  Close 2017-02-16  425.894378  24.480000   0.0  Sell\n",
       "2           2  Close 2017-02-18  424.334326  24.570000   0.0   Buy\n",
       "3           3  Close 2017-02-20  424.334326  24.370001   0.0  Sell\n",
       "4           4  Close 2017-02-22  424.160310  24.379999   0.0   Buy\n",
       "..        ...    ...        ...         ...        ...   ...   ...\n",
       "545       545  Close 2022-01-06  451.913551  33.410000   0.0  Sell\n",
       "546       546  Close 2022-01-10  453.815201  33.270000   0.0   Buy\n",
       "547       547  Close 2022-01-11  453.815201  33.200001   0.0  Sell\n",
       "548       548  Close 2022-01-13  453.815201  33.200001   0.0   Buy\n",
       "549       549  Close 2022-01-14  453.815201  33.150002   0.0  Sell\n",
       "\n",
       "[550 rows x 7 columns]"
      ]
     },
     "execution_count": 9,
     "metadata": {},
     "output_type": "execute_result"
    }
   ],
   "source": [
    "portfolio.orders.records_readable"
   ]
  },
  {
   "cell_type": "markdown",
   "id": "0821b165",
   "metadata": {},
   "source": [
    "## 交易圖表繪製"
   ]
  },
  {
   "cell_type": "code",
   "execution_count": 10,
   "id": "baf7d8fd",
   "metadata": {},
   "outputs": [
    {
     "data": {
      "application/vnd.jupyter.widget-view+json": {
       "model_id": "417560df5de74c3c92c1d5ed114b41d8",
       "version_major": 2,
       "version_minor": 0
      },
      "text/plain": [
       "FigureWidget({\n",
       "    'data': [{'name': 'Close',\n",
       "              'showlegend': True,\n",
       "              'type': 'scatter…"
      ]
     },
     "metadata": {},
     "output_type": "display_data"
    }
   ],
   "source": [
    "fig = price.vbt.plot(trace_kwargs=dict(name='Close'))\n",
    "price.shift(1).vbt.plot(trace_kwargs=dict(name='momentum strategy'), fig=fig)\n",
    "portfolio.positions.plot(close_trace_kwargs=dict(visible=False), fig=fig)"
   ]
  },
  {
   "cell_type": "markdown",
   "id": "d863d4bb",
   "metadata": {},
   "source": [
    "## 交易獲利統計"
   ]
  },
  {
   "cell_type": "code",
   "execution_count": 11,
   "id": "6a53c73a",
   "metadata": {},
   "outputs": [
    {
     "data": {
      "text/plain": [
       "5043.974834872017"
      ]
     },
     "execution_count": 11,
     "metadata": {},
     "output_type": "execute_result"
    }
   ],
   "source": [
    "portfolio.total_profit()"
   ]
  },
  {
   "cell_type": "markdown",
   "id": "e16ba82c",
   "metadata": {},
   "source": [
    "## 交易數據圖表統計"
   ]
  },
  {
   "cell_type": "code",
   "execution_count": 12,
   "id": "aef19fec",
   "metadata": {},
   "outputs": [
    {
     "data": {
      "text/plain": [
       "Start                               2017-01-17 00:00:00\n",
       "End                                 2022-01-14 00:00:00\n",
       "Period                               1219 days 00:00:00\n",
       "Start Value                                     10000.0\n",
       "End Value                                  15043.974835\n",
       "Total Return [%]                              50.439748\n",
       "Benchmark Return [%]                          41.424917\n",
       "Max Gross Exposure [%]                            100.0\n",
       "Total Fees Paid                                     0.0\n",
       "Max Drawdown [%]                              16.507809\n",
       "Max Drawdown Duration                 186 days 00:00:00\n",
       "Total Trades                                        275\n",
       "Total Closed Trades                                 275\n",
       "Total Open Trades                                     0\n",
       "Open Trade PnL                                      0.0\n",
       "Win Rate [%]                                  43.272727\n",
       "Best Trade [%]                                 4.736627\n",
       "Worst Trade [%]                               -4.962584\n",
       "Avg Winning Trade [%]                          1.179504\n",
       "Avg Losing Trade [%]                          -0.639562\n",
       "Avg Winning Trade Duration    4 days 01:12:36.302521008\n",
       "Avg Losing Trade Duration               1 days 09:00:00\n",
       "Profit Factor                                  1.384502\n",
       "Expectancy                                    17.086398\n",
       "Sharpe Ratio                                   1.149863\n",
       "Calmar Ratio                                   0.787955\n",
       "Omega Ratio                                     1.28678\n",
       "Sortino Ratio                                  1.444555\n",
       "Name: Close, dtype: object"
      ]
     },
     "execution_count": 12,
     "metadata": {},
     "output_type": "execute_result"
    }
   ],
   "source": [
    "portfolio.stats()"
   ]
  },
  {
   "cell_type": "markdown",
   "id": "8e2073e2",
   "metadata": {},
   "source": []
  }
 ],
 "metadata": {
  "kernelspec": {
   "display_name": "Python 3 (ipykernel)",
   "language": "python",
   "name": "python3"
  },
  "language_info": {
   "codemirror_mode": {
    "name": "ipython",
    "version": 3
   },
   "file_extension": ".py",
   "mimetype": "text/x-python",
   "name": "python",
   "nbconvert_exporter": "python",
   "pygments_lexer": "ipython3",
   "version": "3.8.5"
  }
 },
 "nbformat": 4,
 "nbformat_minor": 5
}
