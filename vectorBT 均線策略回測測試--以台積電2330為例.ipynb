{
 "cells": [
  {
   "cell_type": "markdown",
   "id": "8fae2d04",
   "metadata": {},
   "source": [
    "## 載入相關套件"
   ]
  },
  {
   "cell_type": "code",
   "execution_count": 1,
   "id": "17fd9c84",
   "metadata": {},
   "outputs": [],
   "source": [
    "import vectorbt as vbt"
   ]
  },
  {
   "cell_type": "code",
   "execution_count": 2,
   "id": "a3fc0d21",
   "metadata": {},
   "outputs": [],
   "source": [
    "from numba import njit"
   ]
  },
  {
   "cell_type": "code",
   "execution_count": 3,
   "id": "9b588856",
   "metadata": {},
   "outputs": [],
   "source": [
    "import pandas as pd\n",
    "import numpy as np\n",
    "import matplotlib.pyplot as plt"
   ]
  },
  {
   "cell_type": "markdown",
   "id": "2393b485",
   "metadata": {},
   "source": [
    "## 從Yahoo finance下載股價資料，載入過去五年每日元大台灣50ETF(0050)收盤資料"
   ]
  },
  {
   "cell_type": "code",
   "execution_count": 4,
   "id": "7d181474",
   "metadata": {},
   "outputs": [],
   "source": [
    "data = pd.read_csv(r'C:\\Users\\npc94\\OneDrive\\桌面\\2330.TW.csv',index_col=0,parse_dates=True)\n",
    "\n",
    "price= data['Close']"
   ]
  },
  {
   "cell_type": "code",
   "execution_count": 13,
   "id": "5757b117",
   "metadata": {},
   "outputs": [
    {
     "data": {
      "text/html": [
       "<div>\n",
       "<style scoped>\n",
       "    .dataframe tbody tr th:only-of-type {\n",
       "        vertical-align: middle;\n",
       "    }\n",
       "\n",
       "    .dataframe tbody tr th {\n",
       "        vertical-align: top;\n",
       "    }\n",
       "\n",
       "    .dataframe thead th {\n",
       "        text-align: right;\n",
       "    }\n",
       "</style>\n",
       "<table border=\"1\" class=\"dataframe\">\n",
       "  <thead>\n",
       "    <tr style=\"text-align: right;\">\n",
       "      <th></th>\n",
       "      <th>Open</th>\n",
       "      <th>High</th>\n",
       "      <th>Low</th>\n",
       "      <th>Close</th>\n",
       "      <th>Adj Close</th>\n",
       "      <th>Volume</th>\n",
       "    </tr>\n",
       "    <tr>\n",
       "      <th>Date</th>\n",
       "      <th></th>\n",
       "      <th></th>\n",
       "      <th></th>\n",
       "      <th></th>\n",
       "      <th></th>\n",
       "      <th></th>\n",
       "    </tr>\n",
       "  </thead>\n",
       "  <tbody>\n",
       "    <tr>\n",
       "      <th>2017-01-16</th>\n",
       "      <td>180.0</td>\n",
       "      <td>180.5</td>\n",
       "      <td>179.0</td>\n",
       "      <td>179.5</td>\n",
       "      <td>152.734634</td>\n",
       "      <td>30756000.0</td>\n",
       "    </tr>\n",
       "    <tr>\n",
       "      <th>2017-01-17</th>\n",
       "      <td>180.5</td>\n",
       "      <td>181.0</td>\n",
       "      <td>179.5</td>\n",
       "      <td>181.0</td>\n",
       "      <td>154.010971</td>\n",
       "      <td>13159000.0</td>\n",
       "    </tr>\n",
       "    <tr>\n",
       "      <th>2017-01-18</th>\n",
       "      <td>180.5</td>\n",
       "      <td>181.0</td>\n",
       "      <td>179.5</td>\n",
       "      <td>181.0</td>\n",
       "      <td>154.010971</td>\n",
       "      <td>23693000.0</td>\n",
       "    </tr>\n",
       "    <tr>\n",
       "      <th>2017-01-19</th>\n",
       "      <td>179.5</td>\n",
       "      <td>181.0</td>\n",
       "      <td>179.5</td>\n",
       "      <td>180.5</td>\n",
       "      <td>153.585541</td>\n",
       "      <td>24627000.0</td>\n",
       "    </tr>\n",
       "    <tr>\n",
       "      <th>2017-01-20</th>\n",
       "      <td>181.0</td>\n",
       "      <td>181.5</td>\n",
       "      <td>180.5</td>\n",
       "      <td>181.0</td>\n",
       "      <td>154.010971</td>\n",
       "      <td>23429000.0</td>\n",
       "    </tr>\n",
       "  </tbody>\n",
       "</table>\n",
       "</div>"
      ],
      "text/plain": [
       "             Open   High    Low  Close   Adj Close      Volume\n",
       "Date                                                          \n",
       "2017-01-16  180.0  180.5  179.0  179.5  152.734634  30756000.0\n",
       "2017-01-17  180.5  181.0  179.5  181.0  154.010971  13159000.0\n",
       "2017-01-18  180.5  181.0  179.5  181.0  154.010971  23693000.0\n",
       "2017-01-19  179.5  181.0  179.5  180.5  153.585541  24627000.0\n",
       "2017-01-20  181.0  181.5  180.5  181.0  154.010971  23429000.0"
      ]
     },
     "execution_count": 13,
     "metadata": {},
     "output_type": "execute_result"
    }
   ],
   "source": [
    "data.head()"
   ]
  },
  {
   "cell_type": "code",
   "execution_count": 15,
   "id": "fbc0b602",
   "metadata": {},
   "outputs": [
    {
     "data": {
      "text/html": [
       "<div>\n",
       "<style scoped>\n",
       "    .dataframe tbody tr th:only-of-type {\n",
       "        vertical-align: middle;\n",
       "    }\n",
       "\n",
       "    .dataframe tbody tr th {\n",
       "        vertical-align: top;\n",
       "    }\n",
       "\n",
       "    .dataframe thead th {\n",
       "        text-align: right;\n",
       "    }\n",
       "</style>\n",
       "<table border=\"1\" class=\"dataframe\">\n",
       "  <thead>\n",
       "    <tr style=\"text-align: right;\">\n",
       "      <th></th>\n",
       "      <th>Open</th>\n",
       "      <th>High</th>\n",
       "      <th>Low</th>\n",
       "      <th>Close</th>\n",
       "      <th>Adj Close</th>\n",
       "      <th>Volume</th>\n",
       "    </tr>\n",
       "    <tr>\n",
       "      <th>Date</th>\n",
       "      <th></th>\n",
       "      <th></th>\n",
       "      <th></th>\n",
       "      <th></th>\n",
       "      <th></th>\n",
       "      <th></th>\n",
       "    </tr>\n",
       "  </thead>\n",
       "  <tbody>\n",
       "    <tr>\n",
       "      <th>2022-01-10</th>\n",
       "      <td>628.0</td>\n",
       "      <td>645.0</td>\n",
       "      <td>627.0</td>\n",
       "      <td>643.0</td>\n",
       "      <td>643.0</td>\n",
       "      <td>38289770.0</td>\n",
       "    </tr>\n",
       "    <tr>\n",
       "      <th>2022-01-11</th>\n",
       "      <td>646.0</td>\n",
       "      <td>651.0</td>\n",
       "      <td>639.0</td>\n",
       "      <td>651.0</td>\n",
       "      <td>651.0</td>\n",
       "      <td>33196585.0</td>\n",
       "    </tr>\n",
       "    <tr>\n",
       "      <th>2022-01-12</th>\n",
       "      <td>657.0</td>\n",
       "      <td>660.0</td>\n",
       "      <td>650.0</td>\n",
       "      <td>660.0</td>\n",
       "      <td>660.0</td>\n",
       "      <td>38860063.0</td>\n",
       "    </tr>\n",
       "    <tr>\n",
       "      <th>2022-01-13</th>\n",
       "      <td>658.0</td>\n",
       "      <td>662.0</td>\n",
       "      <td>655.0</td>\n",
       "      <td>661.0</td>\n",
       "      <td>661.0</td>\n",
       "      <td>38137411.0</td>\n",
       "    </tr>\n",
       "    <tr>\n",
       "      <th>2022-01-14</th>\n",
       "      <td>673.0</td>\n",
       "      <td>673.0</td>\n",
       "      <td>661.0</td>\n",
       "      <td>672.0</td>\n",
       "      <td>672.0</td>\n",
       "      <td>95200777.0</td>\n",
       "    </tr>\n",
       "  </tbody>\n",
       "</table>\n",
       "</div>"
      ],
      "text/plain": [
       "             Open   High    Low  Close  Adj Close      Volume\n",
       "Date                                                         \n",
       "2022-01-10  628.0  645.0  627.0  643.0      643.0  38289770.0\n",
       "2022-01-11  646.0  651.0  639.0  651.0      651.0  33196585.0\n",
       "2022-01-12  657.0  660.0  650.0  660.0      660.0  38860063.0\n",
       "2022-01-13  658.0  662.0  655.0  661.0      661.0  38137411.0\n",
       "2022-01-14  673.0  673.0  661.0  672.0      672.0  95200777.0"
      ]
     },
     "execution_count": 15,
     "metadata": {},
     "output_type": "execute_result"
    }
   ],
   "source": [
    "data.tail()"
   ]
  },
  {
   "cell_type": "markdown",
   "id": "8532d1d2",
   "metadata": {},
   "source": [
    "## 設定資料頻率為\"日\"，並設定交易策略為20天均線和60天均線策略"
   ]
  },
  {
   "cell_type": "code",
   "execution_count": 5,
   "id": "e3ceaa1f",
   "metadata": {},
   "outputs": [],
   "source": [
    "vbt.settings.array_wrapper['freq'] = 'd'\n",
    "risk_free=0.01\n",
    "\n",
    "sma20 = price.rolling(20).mean()\n",
    "sma60 = price.rolling(60).mean()\n",
    "entries = (sma20 > sma60) & (sma20.shift() < sma60.shift())\n",
    "exits = (sma20 < sma60) & (sma20.shift() > sma60.shift())\n",
    "\n",
    "pf= vbt.Portfolio.from_signals(price, entries, exits, fees=0.001425,init_cash=10000) #設定交易稅為千分之1.425以及初始資金為10000"
   ]
  },
  {
   "cell_type": "markdown",
   "id": "3b1e8506",
   "metadata": {},
   "source": [
    "## 投資部位變動繪製"
   ]
  },
  {
   "cell_type": "code",
   "execution_count": 6,
   "id": "a678df83",
   "metadata": {},
   "outputs": [
    {
     "data": {
      "text/plain": [
       "<AxesSubplot:>"
      ]
     },
     "execution_count": 6,
     "metadata": {},
     "output_type": "execute_result"
    },
    {
     "data": {
      "image/png": "[encoded data removed]",
      "text/plain": [
       "<Figure size 720x432 with 2 Axes>"
      ]
     },
     "metadata": {
      "needs_background": "light"
     },
     "output_type": "display_data"
    }
   ],
   "source": [
    "price.plot()\n",
    "sma20.plot()\n",
    "sma60.plot()\n",
    "entries.astype(int).plot(secondary_y=True,figsize=(10,6))\n",
    "(-exits.astype(int)).plot(secondary_y=True,figsize=(10,6))"
   ]
  },
  {
   "cell_type": "markdown",
   "id": "e675e9fa",
   "metadata": {},
   "source": [
    "## 交易進出資料"
   ]
  },
  {
   "cell_type": "code",
   "execution_count": 7,
   "id": "6d3307ea",
   "metadata": {},
   "outputs": [
    {
     "data": {
      "text/html": [
       "<div>\n",
       "<style scoped>\n",
       "    .dataframe tbody tr th:only-of-type {\n",
       "        vertical-align: middle;\n",
       "    }\n",
       "\n",
       "    .dataframe tbody tr th {\n",
       "        vertical-align: top;\n",
       "    }\n",
       "\n",
       "    .dataframe thead th {\n",
       "        text-align: right;\n",
       "    }\n",
       "</style>\n",
       "<table border=\"1\" class=\"dataframe\">\n",
       "  <thead>\n",
       "    <tr style=\"text-align: right;\">\n",
       "      <th></th>\n",
       "      <th>Order Id</th>\n",
       "      <th>Column</th>\n",
       "      <th>Timestamp</th>\n",
       "      <th>Size</th>\n",
       "      <th>Price</th>\n",
       "      <th>Fees</th>\n",
       "      <th>Side</th>\n",
       "    </tr>\n",
       "  </thead>\n",
       "  <tbody>\n",
       "    <tr>\n",
       "      <th>0</th>\n",
       "      <td>0</td>\n",
       "      <td>Close</td>\n",
       "      <td>2018-01-19</td>\n",
       "      <td>39.083250</td>\n",
       "      <td>255.5</td>\n",
       "      <td>14.229723</td>\n",
       "      <td>Buy</td>\n",
       "    </tr>\n",
       "    <tr>\n",
       "      <th>1</th>\n",
       "      <td>1</td>\n",
       "      <td>Close</td>\n",
       "      <td>2018-04-17</td>\n",
       "      <td>39.083250</td>\n",
       "      <td>238.0</td>\n",
       "      <td>13.255084</td>\n",
       "      <td>Sell</td>\n",
       "    </tr>\n",
       "    <tr>\n",
       "      <th>2</th>\n",
       "      <td>2</td>\n",
       "      <td>Close</td>\n",
       "      <td>2018-07-27</td>\n",
       "      <td>37.935955</td>\n",
       "      <td>244.5</td>\n",
       "      <td>13.217361</td>\n",
       "      <td>Buy</td>\n",
       "    </tr>\n",
       "    <tr>\n",
       "      <th>3</th>\n",
       "      <td>3</td>\n",
       "      <td>Close</td>\n",
       "      <td>2018-10-19</td>\n",
       "      <td>37.935955</td>\n",
       "      <td>236.0</td>\n",
       "      <td>12.757862</td>\n",
       "      <td>Sell</td>\n",
       "    </tr>\n",
       "    <tr>\n",
       "      <th>4</th>\n",
       "      <td>4</td>\n",
       "      <td>Close</td>\n",
       "      <td>2019-02-15</td>\n",
       "      <td>39.327779</td>\n",
       "      <td>227.0</td>\n",
       "      <td>12.721553</td>\n",
       "      <td>Buy</td>\n",
       "    </tr>\n",
       "    <tr>\n",
       "      <th>5</th>\n",
       "      <td>5</td>\n",
       "      <td>Close</td>\n",
       "      <td>2019-05-28</td>\n",
       "      <td>39.327779</td>\n",
       "      <td>230.5</td>\n",
       "      <td>12.917701</td>\n",
       "      <td>Sell</td>\n",
       "    </tr>\n",
       "    <tr>\n",
       "      <th>6</th>\n",
       "      <td>6</td>\n",
       "      <td>Close</td>\n",
       "      <td>2019-07-18</td>\n",
       "      <td>35.587616</td>\n",
       "      <td>254.0</td>\n",
       "      <td>12.880938</td>\n",
       "      <td>Buy</td>\n",
       "    </tr>\n",
       "    <tr>\n",
       "      <th>7</th>\n",
       "      <td>7</td>\n",
       "      <td>Close</td>\n",
       "      <td>2020-02-25</td>\n",
       "      <td>35.587616</td>\n",
       "      <td>322.0</td>\n",
       "      <td>16.329378</td>\n",
       "      <td>Sell</td>\n",
       "    </tr>\n",
       "    <tr>\n",
       "      <th>8</th>\n",
       "      <td>8</td>\n",
       "      <td>Close</td>\n",
       "      <td>2020-05-12</td>\n",
       "      <td>38.734238</td>\n",
       "      <td>295.0</td>\n",
       "      <td>16.282905</td>\n",
       "      <td>Buy</td>\n",
       "    </tr>\n",
       "    <tr>\n",
       "      <th>9</th>\n",
       "      <td>9</td>\n",
       "      <td>Close</td>\n",
       "      <td>2021-03-30</td>\n",
       "      <td>38.734238</td>\n",
       "      <td>597.0</td>\n",
       "      <td>32.952184</td>\n",
       "      <td>Sell</td>\n",
       "    </tr>\n",
       "    <tr>\n",
       "      <th>10</th>\n",
       "      <td>10</td>\n",
       "      <td>Close</td>\n",
       "      <td>2021-06-18</td>\n",
       "      <td>38.239684</td>\n",
       "      <td>603.0</td>\n",
       "      <td>32.858404</td>\n",
       "      <td>Buy</td>\n",
       "    </tr>\n",
       "    <tr>\n",
       "      <th>11</th>\n",
       "      <td>11</td>\n",
       "      <td>Close</td>\n",
       "      <td>2021-08-10</td>\n",
       "      <td>38.239684</td>\n",
       "      <td>591.0</td>\n",
       "      <td>32.204506</td>\n",
       "      <td>Sell</td>\n",
       "    </tr>\n",
       "    <tr>\n",
       "      <th>12</th>\n",
       "      <td>12</td>\n",
       "      <td>Close</td>\n",
       "      <td>2021-09-07</td>\n",
       "      <td>36.172289</td>\n",
       "      <td>623.0</td>\n",
       "      <td>32.112854</td>\n",
       "      <td>Buy</td>\n",
       "    </tr>\n",
       "    <tr>\n",
       "      <th>13</th>\n",
       "      <td>13</td>\n",
       "      <td>Close</td>\n",
       "      <td>2021-10-12</td>\n",
       "      <td>36.172289</td>\n",
       "      <td>575.0</td>\n",
       "      <td>29.638669</td>\n",
       "      <td>Sell</td>\n",
       "    </tr>\n",
       "    <tr>\n",
       "      <th>14</th>\n",
       "      <td>14</td>\n",
       "      <td>Close</td>\n",
       "      <td>2021-11-09</td>\n",
       "      <td>33.944146</td>\n",
       "      <td>611.0</td>\n",
       "      <td>29.554319</td>\n",
       "      <td>Buy</td>\n",
       "    </tr>\n",
       "  </tbody>\n",
       "</table>\n",
       "</div>"
      ],
      "text/plain": [
       "    Order Id Column  Timestamp       Size  Price       Fees  Side\n",
       "0          0  Close 2018-01-19  39.083250  255.5  14.229723   Buy\n",
       "1          1  Close 2018-04-17  39.083250  238.0  13.255084  Sell\n",
       "2          2  Close 2018-07-27  37.935955  244.5  13.217361   Buy\n",
       "3          3  Close 2018-10-19  37.935955  236.0  12.757862  Sell\n",
       "4          4  Close 2019-02-15  39.327779  227.0  12.721553   Buy\n",
       "5          5  Close 2019-05-28  39.327779  230.5  12.917701  Sell\n",
       "6          6  Close 2019-07-18  35.587616  254.0  12.880938   Buy\n",
       "7          7  Close 2020-02-25  35.587616  322.0  16.329378  Sell\n",
       "8          8  Close 2020-05-12  38.734238  295.0  16.282905   Buy\n",
       "9          9  Close 2021-03-30  38.734238  597.0  32.952184  Sell\n",
       "10        10  Close 2021-06-18  38.239684  603.0  32.858404   Buy\n",
       "11        11  Close 2021-08-10  38.239684  591.0  32.204506  Sell\n",
       "12        12  Close 2021-09-07  36.172289  623.0  32.112854   Buy\n",
       "13        13  Close 2021-10-12  36.172289  575.0  29.638669  Sell\n",
       "14        14  Close 2021-11-09  33.944146  611.0  29.554319   Buy"
      ]
     },
     "execution_count": 7,
     "metadata": {},
     "output_type": "execute_result"
    }
   ],
   "source": [
    "pf.orders.records_readable"
   ]
  },
  {
   "cell_type": "markdown",
   "id": "65b92665",
   "metadata": {},
   "source": [
    "## 交易圖表繪製"
   ]
  },
  {
   "cell_type": "code",
   "execution_count": 8,
   "id": "baf7d8fd",
   "metadata": {},
   "outputs": [
    {
     "data": {
      "application/vnd.jupyter.widget-view+json": {
       "model_id": "a9013677fc6d49138b3a88a6e4ab7fdd",
       "version_major": 2,
       "version_minor": 0
      },
      "text/plain": [
       "FigureWidget({\n",
       "    'data': [{'name': 'Close',\n",
       "              'showlegend': True,\n",
       "              'type': 'scatter…"
      ]
     },
     "metadata": {},
     "output_type": "display_data"
    }
   ],
   "source": [
    "fig = price.vbt.plot(trace_kwargs=dict(name='Close'))\n",
    "sma20.vbt.plot(trace_kwargs=dict(name='Fast MA'), fig=fig)\n",
    "sma60.vbt.plot(trace_kwargs=dict(name='Slow MA'), fig=fig)\n",
    "pf.positions.plot(close_trace_kwargs=dict(visible=False), fig=fig)"
   ]
  },
  {
   "cell_type": "markdown",
   "id": "32c76bce",
   "metadata": {},
   "source": [
    "## 交易獲利統計"
   ]
  },
  {
   "cell_type": "code",
   "execution_count": 9,
   "id": "6a53c73a",
   "metadata": {},
   "outputs": [
    {
     "data": {
      "text/plain": [
       "12810.465836410984"
      ]
     },
     "execution_count": 9,
     "metadata": {},
     "output_type": "execute_result"
    }
   ],
   "source": [
    "pf.total_profit()"
   ]
  },
  {
   "cell_type": "markdown",
   "id": "122ffca2",
   "metadata": {},
   "source": [
    "## 交易數據圖表統計"
   ]
  },
  {
   "cell_type": "code",
   "execution_count": 10,
   "id": "aef19fec",
   "metadata": {},
   "outputs": [
    {
     "data": {
      "text/plain": [
       "Start                         2017-01-16 00:00:00\n",
       "End                           2022-01-14 00:00:00\n",
       "Period                         1220 days 00:00:00\n",
       "Start Value                               10000.0\n",
       "End Value                            22810.465836\n",
       "Total Return [%]                       128.104658\n",
       "Benchmark Return [%]                   274.373259\n",
       "Max Gross Exposure [%]                      100.0\n",
       "Total Fees Paid                         313.91344\n",
       "Max Drawdown [%]                         22.78361\n",
       "Max Drawdown Duration           294 days 00:00:00\n",
       "Total Trades                                    8\n",
       "Total Closed Trades                             7\n",
       "Total Open Trades                               1\n",
       "Open Trade PnL                        2041.038562\n",
       "Win Rate [%]                            42.857143\n",
       "Best Trade [%]                            101.942\n",
       "Worst Trade [%]                         -7.978676\n",
       "Avg Winning Trade [%]                   43.215052\n",
       "Avg Losing Trade [%]                    -5.282993\n",
       "Avg Winning Trade Duration      142 days 08:00:00\n",
       "Avg Losing Trade Duration        42 days 06:00:00\n",
       "Profit Factor                            4.184494\n",
       "Expectancy                            1538.489611\n",
       "Sharpe Ratio                             1.257654\n",
       "Calmar Ratio                             1.228135\n",
       "Omega Ratio                              1.273975\n",
       "Sortino Ratio                            1.943647\n",
       "Name: Close, dtype: object"
      ]
     },
     "execution_count": 10,
     "metadata": {},
     "output_type": "execute_result"
    }
   ],
   "source": [
    "pf.stats()"
   ]
  },
  {
   "cell_type": "markdown",
   "id": "0452f324",
   "metadata": {},
   "source": [
    "## 投組虧損圖繪製"
   ]
  },
  {
   "cell_type": "code",
   "execution_count": 11,
   "id": "6c5f7d89",
   "metadata": {},
   "outputs": [
    {
     "data": {
      "text/plain": [
       "<AxesSubplot:xlabel='Date'>"
      ]
     },
     "execution_count": 11,
     "metadata": {},
     "output_type": "execute_result"
    },
    {
     "data": {
      "image/png": "[encoded data removed]",
      "text/plain": [
       "<Figure size 720x432 with 1 Axes>"
      ]
     },
     "metadata": {
      "needs_background": "light"
     },
     "output_type": "display_data"
    }
   ],
   "source": [
    "pf.drawdown().plot(figsize=(10,6))"
   ]
  },
  {
   "cell_type": "markdown",
   "id": "4085e7b9",
   "metadata": {},
   "source": [
    "## 投組收益率繪製"
   ]
  },
  {
   "cell_type": "code",
   "execution_count": 12,
   "id": "e6ea179c",
   "metadata": {},
   "outputs": [
    {
     "data": {
      "text/plain": [
       "<AxesSubplot:xlabel='Date'>"
      ]
     },
     "execution_count": 12,
     "metadata": {},
     "output_type": "execute_result"
    },
    {
     "data": {
      "image/png": "[encoded data removed]",
      "text/plain": [
       "<Figure size 720x432 with 1 Axes>"
      ]
     },
     "metadata": {
      "needs_background": "light"
     },
     "output_type": "display_data"
    }
   ],
   "source": [
    "pf.annual_returns().plot(figsize=(10,6))"
   ]
  },
  {
   "cell_type": "code",
   "execution_count": null,
   "id": "7fa6066d",
   "metadata": {},
   "outputs": [],
   "source": []
  }
 ],
 "metadata": {
  "kernelspec": {
   "display_name": "Python 3 (ipykernel)",
   "language": "python",
   "name": "python3"
  },
  "language_info": {
   "codemirror_mode": {
    "name": "ipython",
    "version": 3
   },
   "file_extension": ".py",
   "mimetype": "text/x-python",
   "name": "python",
   "nbconvert_exporter": "python",
   "pygments_lexer": "ipython3",
   "version": "3.8.5"
  }
 },
 "nbformat": 4,
 "nbformat_minor": 5
}
